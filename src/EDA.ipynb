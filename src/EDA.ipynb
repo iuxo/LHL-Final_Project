{
 "cells": [
  {
   "cell_type": "code",
   "execution_count": 1,
   "metadata": {},
   "outputs": [],
   "source": [
    "# add libraries\n",
    "import requests\n",
    "import json\n",
    "import pandas as pd\n",
    "import os\n",
    "from pprint import pprint\n",
    "import time"
   ]
  },
  {
   "cell_type": "markdown",
   "metadata": {},
   "source": [
    "# Data Acquisition"
   ]
  },
  {
   "cell_type": "markdown",
   "metadata": {},
   "source": [
    "First have to get PUUID (unique id for players) that is required to search through their matches.\n",
    "\n",
    "To get PUUID, use LEAGUE-V4 to get a list of players to search up using SUMMONER-V4 to get PUUID. After acquiring PUUID for players, use that PUUID to query in MATCH-V5 to get recent matches. Using those matches, get the timelines for each match at 10 minute mark."
   ]
  },
  {
   "cell_type": "code",
   "execution_count": 11,
   "metadata": {},
   "outputs": [],
   "source": [
    "filename = 'api'"
   ]
  },
  {
   "cell_type": "code",
   "execution_count": 12,
   "metadata": {},
   "outputs": [],
   "source": [
    "def get_file_contents(filename):\n",
    "    \"\"\" Given a filename,\n",
    "        return the contents of that file\n",
    "    \"\"\"\n",
    "    try:\n",
    "        with open(filename, 'r') as f:\n",
    "            # It's assumed our file contains a single line,\n",
    "            # with our API key\n",
    "            return f.read().strip()\n",
    "    except FileNotFoundError:\n",
    "        print(\"'%s' file not found\" % filename)"
   ]
  },
  {
   "cell_type": "code",
   "execution_count": 13,
   "metadata": {},
   "outputs": [],
   "source": [
    "api_key = get_file_contents(filename)"
   ]
  },
  {
   "cell_type": "code",
   "execution_count": 14,
   "metadata": {},
   "outputs": [],
   "source": [
    "# acquire data from different API endpoints\n",
    "# League-V4\n",
    "\n",
    "queue = 'RANKED_SOLO_5x5'\n",
    "tier = 'DIAMOND'\n",
    "division = 'I'\n",
    "\n",
    "# pages of players\n",
    "# iterate through pages 1-5 to get ~1000 players to use as sample data for now\n",
    "params = {\n",
    "    \"page\": 1\n",
    "}\n",
    "\n",
    "url = 'https://na1.api.riotgames.com/lol/'\n",
    "league_url = f'{url}league/v4/entries/{queue}/{tier}/{division}'\n",
    "\n",
    "headers = {}\n",
    "headers[\"X-Riot-Token\"] = api_key"
   ]
  },
  {
   "cell_type": "code",
   "execution_count": 15,
   "metadata": {},
   "outputs": [],
   "source": [
    "league_data = []\n",
    "for i in range(5):\n",
    "    params[\"page\"] = i + 1\n",
    "    res = requests.get(url = league_url, params = params, headers = headers)\n",
    "    league_data.append(res.json())"
   ]
  },
  {
   "cell_type": "code",
   "execution_count": 16,
   "metadata": {},
   "outputs": [],
   "source": [
    "# get the summonerId's to search up\n",
    "summoner_ids = []\n",
    "for page in league_data:\n",
    "    for entry in page:\n",
    "        summoner_ids.append(entry.get('summonerId'))"
   ]
  },
  {
   "cell_type": "code",
   "execution_count": 17,
   "metadata": {},
   "outputs": [
    {
     "data": {
      "text/plain": [
       "1025"
      ]
     },
     "execution_count": 17,
     "metadata": {},
     "output_type": "execute_result"
    }
   ],
   "source": [
    "len(summoner_ids)"
   ]
  },
  {
   "cell_type": "code",
   "execution_count": 18,
   "metadata": {},
   "outputs": [],
   "source": [
    "# get the PUUID and save them to a pd dataframe\n",
    "# work with the first 100 puuids for now\n",
    "# SUMMONER-V4\n",
    "\n",
    "summoner_data = []\n",
    "\n",
    "for id in summoner_ids:\n",
    "    summoner_url = f'{url}summoner/v4/summoners/{id}'\n",
    "    res = requests.get(url = summoner_url, headers = headers)\n",
    "    summoner_data.append(res.json())\n",
    "    time.sleep(1)"
   ]
  },
  {
   "cell_type": "code",
   "execution_count": 19,
   "metadata": {},
   "outputs": [],
   "source": [
    "puuids = []\n",
    "for summoner in summoner_data:\n",
    "    puuids.append(summoner.get('puuid'))"
   ]
  },
  {
   "cell_type": "code",
   "execution_count": 20,
   "metadata": {},
   "outputs": [
    {
     "data": {
      "text/plain": [
       "1025"
      ]
     },
     "execution_count": 20,
     "metadata": {},
     "output_type": "execute_result"
    }
   ],
   "source": [
    "len(puuids)"
   ]
  },
  {
   "cell_type": "code",
   "execution_count": 21,
   "metadata": {},
   "outputs": [
    {
     "data": {
      "text/plain": [
       "'gCQWB6xb6N_E4zBkzeUJ2dr2b8Kj-Vw67w-tj7S9wrSqwH6cuh_EHIeLLUcPEI2tShxCRRCALOxKgw'"
      ]
     },
     "execution_count": 21,
     "metadata": {},
     "output_type": "execute_result"
    }
   ],
   "source": [
    "puuids[0]"
   ]
  },
  {
   "cell_type": "code",
   "execution_count": 22,
   "metadata": {},
   "outputs": [],
   "source": [
    "# get the 10 most recent games for puuid\n",
    "# store into set so no duplicate games are used\n",
    "last_10_games = []\n",
    "\n",
    "params = {\n",
    "    \"queue\": 420,\n",
    "    \"start\": -1,\n",
    "    \"count\": 11\n",
    "}\n",
    "\n",
    "for puuid in puuids:\n",
    "    last_10_url = f\"https://americas.api.riotgames.com/lol/match/v5/matches/by-puuid/{puuid}/ids\"\n",
    "    res = requests.get(url = last_10_url, params = params, headers = headers)\n",
    "    for match_id in res.json():\n",
    "        last_10_games.append(match_id)\n",
    "    time.sleep(1)"
   ]
  },
  {
   "cell_type": "code",
   "execution_count": 44,
   "metadata": {},
   "outputs": [
    {
     "data": {
      "text/plain": [
       "'NA1_4506172470'"
      ]
     },
     "execution_count": 44,
     "metadata": {},
     "output_type": "execute_result"
    }
   ],
   "source": [
    "last_10_games[0]"
   ]
  },
  {
   "cell_type": "markdown",
   "metadata": {},
   "source": [
    "# Feature Engineering"
   ]
  },
  {
   "cell_type": "markdown",
   "metadata": {},
   "source": [
    "participants 1-5 are blue side\n",
    "\n",
    "6-10 are red side\n",
    "\n",
    "WARDS:\n",
    "\n",
    "WARD_KILL\n",
    "\n",
    "WARD_PLACED\n",
    "\n",
    "ITEM_DESTROYED: 2055 (control ward)\n",
    "\n",
    "KILLS:\n",
    "\n",
    "KILL_FIRST_BLOOD\n",
    "\n",
    "CHAMPION_KILLS\n",
    "\n",
    "OBJECTIVES:\n",
    "\n",
    "DEATHS:\n",
    "\n",
    "TURRET_PLATE_DESTROYED\n",
    "\n",
    "BUILDING_KILL\n",
    "\n",
    "ELITE_MONSTER_KILL"
   ]
  },
  {
   "cell_type": "markdown",
   "metadata": {},
   "source": [
    "Each frame is 60 seconds of gameplay.\n",
    "So for each frame need to record the events by parsing through the request\n",
    "like wards placed\n",
    "count total kills from each frame as well"
   ]
  },
  {
   "cell_type": "code",
   "execution_count": 71,
   "metadata": {},
   "outputs": [],
   "source": [
    "# make a dataframe with matchid as index and features as columns\n",
    "# first make functions to parse through the frames\n",
    "# need containers to store the data before making a data frame\n",
    "# make a class to store the data of a game\n",
    "class Game:\n",
    "\n",
    "    def __init__(self, match):\n",
    "        self.id = \"\"\n",
    "\n",
    "        self.winning_team = 0\n",
    "\n",
    "        self.blue_wards_placed = 0\n",
    "        self.blue_wards_killed = 0\n",
    "        self.blue_champions_killed = 0\n",
    "        self.blue_elites_killed = 0\n",
    "        self.blue_plates_destroyed = 0\n",
    "        self.blue_turrets_destroyed = 0\n",
    "        self.blue_total_gold = 0\n",
    "        self.blue_average_level = 1\n",
    "        self.blue_jungle_monsters_killed = 0\n",
    "        self.blue_minions_killed = 0\n",
    "        self.blue_first_blood = 0\n",
    "\n",
    "        self.red_wards_placed = 0\n",
    "        self.red_wards_killed = 0\n",
    "        self.red_champions_killed = 0\n",
    "        self.red_elites_killed = 0\n",
    "        self.red_plates_destroyed = 0\n",
    "        self.red_turrets_destroyed = 0\n",
    "        self.red_total_gold = 0\n",
    "        self.red_average_level = 1\n",
    "        self.red_jungle_monsters_killed = 0\n",
    "        self.red_minions_killed = 0\n",
    "        self.red_first_blood = 0\n",
    "\n",
    "        self.get_match_id(match)\n",
    "        self.set_winning_team(match)\n",
    "        self.parse_events(match.get('info').get('frames'))\n",
    "\n",
    "        # some games end before 10 minutes\n",
    "        try:\n",
    "            self.get_team_info(match.get('info').get('frames')[10])\n",
    "        except:\n",
    "            self.get_team_info(match.get('info').get('frames')[-1])\n",
    "\n",
    "    def first_blood(self, event):\n",
    "        if event.get('killType') == 'KILL_FIRST_BLOOD':\n",
    "            participant = event.get('killerId')\n",
    "            if participant in range(1,6):\n",
    "                self.blue_first_blood = 1\n",
    "            else:\n",
    "                self.red_first_blood = 1\n",
    "\n",
    "    def count_wards_placed(self, event):\n",
    "        if event.get('type') == 'WARD_PLACED':\n",
    "            participant = event.get('creatorId')\n",
    "            if participant in range(1,6):\n",
    "                self.blue_wards_placed += 1\n",
    "            else:\n",
    "                self.red_wards_placed += 1\n",
    "\n",
    "    def count_ward_kills(self, event):\n",
    "        if event.get('type') == 'WARD_KILL':\n",
    "            participant = event.get('killerId')\n",
    "            if participant in range(1,6):\n",
    "                self.blue_wards_killed += 1\n",
    "            else:\n",
    "                self.red_wards_killed += 1\n",
    "\n",
    "    def count_champion_kills(self, event):\n",
    "        if event.get('type') == 'CHAMPION_KILL':\n",
    "            participant = event.get('killerId')\n",
    "            if participant in range(1,6):\n",
    "                self.blue_champions_killed += 1\n",
    "            else:\n",
    "                self.red_champions_killed += 1\n",
    "\n",
    "    def count_elite_kills(self, event):\n",
    "        if event.get('type') == 'ELITE_MONSTER_KILL':\n",
    "            participant = event.get('killerTeamId')\n",
    "            if participant == 100:\n",
    "                self.blue_elites_killed += 1\n",
    "            else:\n",
    "                self.red_elites_killed += 1\n",
    "\n",
    "    def count_turret_plates_destroyed(self, event):\n",
    "        if event.get('type') == 'TURRET_PLATE_DESTROYED':\n",
    "            team = event.get('teamId')\n",
    "            if team == 200:\n",
    "                self.blue_plates_destroyed += 1\n",
    "            else:\n",
    "                self.red_plates_destroyed += 1\n",
    "\n",
    "    def count_turrets_destroyed(self, event):\n",
    "        if event.get('type') == 'BUILDING_KILL':\n",
    "            team = event.get('teamId')\n",
    "            if team == 200:\n",
    "                self.blue_turrets_destroyed += 1\n",
    "            else:\n",
    "                self.red_turrets_destroyed += 1\n",
    "\n",
    "    def parse_events(self, frames):\n",
    "        for frame in frames[0:11]:\n",
    "            for event in frame.get('events'):\n",
    "                self.count_wards_placed(event)\n",
    "                self.count_ward_kills(event)\n",
    "                self.count_champion_kills(event)\n",
    "                self.count_elite_kills(event)\n",
    "                self.count_turret_plates_destroyed(event)\n",
    "                self.count_turrets_destroyed(event)\n",
    "                self.first_blood(event)\n",
    "\n",
    "    def count_team_gold(self, participants):\n",
    "        for p in range(1,6):\n",
    "            self.blue_total_gold += participants.get(f'{p}').get('totalGold')\n",
    "        for p in range(6,11):\n",
    "            self.red_total_gold += participants.get(f'{p}').get('totalGold')\n",
    "    \n",
    "    def team_average_level(self, participants):\n",
    "        blue_levels = 0\n",
    "        red_levels = 0\n",
    "        for p in range(1,6):\n",
    "            blue_levels += participants.get(f'{p}').get('level')\n",
    "        for p in range(6,11):\n",
    "            red_levels += participants.get(f'{p}').get('level')\n",
    "        self.blue_average_level = blue_levels / 5\n",
    "        self.red_average_level = red_levels / 5\n",
    "\n",
    "    def count_team_cs(self, participants):\n",
    "        for p in range(1,6):\n",
    "            self.blue_jungle_monsters_killed += participants.get(f'{p}').get('jungleMinionsKilled')\n",
    "            self.blue_minions_killed += participants.get(f'{p}').get('minionsKilled')\n",
    "        for p in range(6,11):\n",
    "            self.red_jungle_monsters_killed += participants.get(f'{p}').get('jungleMinionsKilled')\n",
    "            self.red_minions_killed += participants.get(f'{p}').get('minionsKilled')\n",
    "    \n",
    "    def get_team_info(self, frame):\n",
    "        participants = frame.get('participantFrames')\n",
    "\n",
    "        self.count_team_gold(participants)\n",
    "        self.team_average_level(participants)\n",
    "        self.count_team_cs(participants)\n",
    "\n",
    "    def get_match_id(self, match):\n",
    "        self.id = match.get('metadata').get('matchId')\n",
    "\n",
    "    def set_winning_team(self, match):\n",
    "        self.winning_team = match.get('info').get('frames')[-1].get('events')[-1].get('winningTeam')"
   ]
  },
  {
   "cell_type": "markdown",
   "metadata": {},
   "source": [
    "### Making DataFrame with features"
   ]
  },
  {
   "cell_type": "code",
   "execution_count": 46,
   "metadata": {},
   "outputs": [
    {
     "name": "stdout",
     "output_type": "stream",
     "text": [
      "10250\n"
     ]
    }
   ],
   "source": [
    "print(len(last_10_games))"
   ]
  },
  {
   "cell_type": "code",
   "execution_count": 56,
   "metadata": {},
   "outputs": [
    {
     "data": {
      "text/plain": [
       "['NA1_4487035412',\n",
       " 'NA1_4487025995',\n",
       " 'NA1_4481658693',\n",
       " 'NA1_4476320211',\n",
       " 'NA1_4476286115',\n",
       " 'NA1_4394034652',\n",
       " 'NA1_4386735463',\n",
       " 'NA1_4385863580',\n",
       " 'NA1_4385829631',\n",
       " 'NA1_4385787432']"
      ]
     },
     "execution_count": 56,
     "metadata": {},
     "output_type": "execute_result"
    }
   ],
   "source": [
    "last_10_games[1160:1171]"
   ]
  },
  {
   "cell_type": "code",
   "execution_count": 62,
   "metadata": {},
   "outputs": [],
   "source": [
    "# makes a lot of API calls, taking at least 1 second each\n",
    "games = []\n",
    "for match_id in last_10_games:\n",
    "    match_url = f\"https://americas.api.riotgames.com/lol/match/v5/matches/{match_id}/timeline\"\n",
    "    res = requests.get(url = match_url, headers = headers)\n",
    "    if res.status_code == 200:\n",
    "        match = res.json()\n",
    "        if match.get('info').get('frameInterval'):\n",
    "            game = Game(match)\n",
    "            games.append(game)\n",
    "            time.sleep(0.8)\n",
    "    \n",
    "\n",
    "games_df = pd.DataFrame([vars(g) for g in games])"
   ]
  },
  {
   "cell_type": "markdown",
   "metadata": {},
   "source": [
    "## Making a new DF of 10000 games\n",
    "### Has additional features"
   ]
  },
  {
   "cell_type": "code",
   "execution_count": 63,
   "metadata": {},
   "outputs": [],
   "source": [
    "games_df_large = games_df.drop_duplicates('id')"
   ]
  },
  {
   "cell_type": "code",
   "execution_count": 64,
   "metadata": {},
   "outputs": [],
   "source": [
    "games_df_large.to_csv('../data/large_sample.csv')"
   ]
  },
  {
   "cell_type": "code",
   "execution_count": 70,
   "metadata": {},
   "outputs": [
    {
     "data": {
      "text/plain": [
       "1    4716\n",
       "0    4610\n",
       "Name: blue_first_blood, dtype: int64"
      ]
     },
     "execution_count": 70,
     "metadata": {},
     "output_type": "execute_result"
    }
   ],
   "source": [
    "games_df_large['blue_first_blood'].value_counts()"
   ]
  },
  {
   "cell_type": "code",
   "execution_count": 68,
   "metadata": {},
   "outputs": [
    {
     "data": {
      "text/plain": [
       "0    9326\n",
       "Name: red_first_blood, dtype: int64"
      ]
     },
     "execution_count": 68,
     "metadata": {},
     "output_type": "execute_result"
    }
   ],
   "source": [
    "games_df_large['red_first_blood'].value_counts()"
   ]
  },
  {
   "cell_type": "code",
   "execution_count": 290,
   "metadata": {},
   "outputs": [
    {
     "data": {
      "text/plain": [
       "True"
      ]
     },
     "execution_count": 290,
     "metadata": {},
     "output_type": "execute_result"
    }
   ],
   "source": [
    "# games_df.duplicated('id').any()"
   ]
  },
  {
   "cell_type": "code",
   "execution_count": 291,
   "metadata": {},
   "outputs": [
    {
     "data": {
      "text/plain": [
       "(900, 22)"
      ]
     },
     "execution_count": 291,
     "metadata": {},
     "output_type": "execute_result"
    }
   ],
   "source": [
    "# games_df.shape"
   ]
  },
  {
   "cell_type": "code",
   "execution_count": 292,
   "metadata": {},
   "outputs": [],
   "source": [
    "# games_df_small = games_df.drop_duplicates('id')"
   ]
  },
  {
   "cell_type": "code",
   "execution_count": 293,
   "metadata": {},
   "outputs": [
    {
     "data": {
      "text/plain": [
       "(895, 22)"
      ]
     },
     "execution_count": 293,
     "metadata": {},
     "output_type": "execute_result"
    }
   ],
   "source": [
    "# games_df_small.shape"
   ]
  },
  {
   "cell_type": "code",
   "execution_count": 294,
   "metadata": {},
   "outputs": [],
   "source": [
    "# games_df_small.to_csv('../data/small_sample.csv')"
   ]
  },
  {
   "cell_type": "code",
   "execution_count": null,
   "metadata": {},
   "outputs": [],
   "source": []
  }
 ],
 "metadata": {
  "kernelspec": {
   "display_name": "Python 3.8.13 ('THE_ONE')",
   "language": "python",
   "name": "python3"
  },
  "language_info": {
   "codemirror_mode": {
    "name": "ipython",
    "version": 3
   },
   "file_extension": ".py",
   "mimetype": "text/x-python",
   "name": "python",
   "nbconvert_exporter": "python",
   "pygments_lexer": "ipython3",
   "version": "3.8.13"
  },
  "orig_nbformat": 4,
  "vscode": {
   "interpreter": {
    "hash": "ba21b04416bd6bb7d943d6e1e30db1b014094e2c4596ae230c1b8e6f1c8e2c12"
   }
  }
 },
 "nbformat": 4,
 "nbformat_minor": 2
}
