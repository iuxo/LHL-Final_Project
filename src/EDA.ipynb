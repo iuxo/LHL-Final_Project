{
 "cells": [
  {
   "cell_type": "code",
   "execution_count": null,
   "metadata": {},
   "outputs": [],
   "source": [
    "# add libraries\n",
    "import requests\n",
    "import json\n",
    "import pandas as pd\n",
    "import os\n",
    "from pprint import pprint\n",
    "import time"
   ]
  },
  {
   "cell_type": "markdown",
   "metadata": {},
   "source": [
    "# Data Acquisition"
   ]
  },
  {
   "cell_type": "markdown",
   "metadata": {},
   "source": [
    "First have to get PUUID (unique id for players) that is required to search through their matches.\n",
    "\n",
    "To get PUUID, use LEAGUE-V4 to get a list of players to search up using SUMMONER-V4 to get PUUID. After acquiring PUUID for players, use that PUUID to query in MATCH-V5 to get recent matches. Using those matches, get the timelines for each match at 10 minute mark."
   ]
  },
  {
   "cell_type": "code",
   "execution_count": null,
   "metadata": {},
   "outputs": [],
   "source": [
    "# acquire data from different API endpoints\n",
    "# League-V4\n",
    "\n",
    "queue = 'RANKED_SOLO_5x5'\n",
    "tier = 'DIAMOND'\n",
    "division = 'I'\n",
    "\n",
    "# pages of players\n",
    "# iterate through pages 1-5 to get ~1000 players to use as sample data for now\n",
    "params = {\n",
    "    \"page\": 1\n",
    "}\n",
    "\n",
    "url = 'https://na1.api.riotgames.com/lol/'\n",
    "league_url = f'{url}league/v4/entries/{queue}/{tier}/{division}'\n",
    "\n",
    "headers = {}\n",
    "headers[\"X-Riot-Token\"] = ''"
   ]
  },
  {
   "cell_type": "code",
   "execution_count": null,
   "metadata": {},
   "outputs": [],
   "source": [
    "league_data = []\n",
    "for i in range(5):\n",
    "    params[\"page\"] = i + 1\n",
    "    res = requests.get(url = league_url, params = params, headers = headers)\n",
    "    league_data.append(res.json())"
   ]
  },
  {
   "cell_type": "code",
   "execution_count": null,
   "metadata": {},
   "outputs": [],
   "source": [
    "# get the summonerId's to search up\n",
    "summoner_ids = []\n",
    "for page in league_data:\n",
    "    for entry in page:\n",
    "        summoner_ids.append(entry.get('summonerId'))"
   ]
  },
  {
   "cell_type": "code",
   "execution_count": null,
   "metadata": {},
   "outputs": [],
   "source": [
    "len(summoner_ids)"
   ]
  },
  {
   "cell_type": "code",
   "execution_count": null,
   "metadata": {},
   "outputs": [],
   "source": [
    "# get the PUUID and save them to a pd dataframe\n",
    "# work with the first 100 puuids for now\n",
    "# SUMMONER-V4\n",
    "\n",
    "summoner_data = []\n",
    "\n",
    "for id in summoner_ids[0:100]:\n",
    "    summoner_url = f'{url}summoner/v4/summoners/{id}'\n",
    "    res = requests.get(url = summoner_url, headers = headers)\n",
    "    summoner_data.append(res.json())\n",
    "    time.sleep(1)"
   ]
  },
  {
   "cell_type": "code",
   "execution_count": null,
   "metadata": {},
   "outputs": [],
   "source": [
    "puuids = []\n",
    "for summoner in summoner_data:\n",
    "    puuids.append(summoner.get('puuid'))"
   ]
  },
  {
   "cell_type": "code",
   "execution_count": null,
   "metadata": {},
   "outputs": [],
   "source": [
    "len(puuids)"
   ]
  },
  {
   "cell_type": "code",
   "execution_count": null,
   "metadata": {},
   "outputs": [],
   "source": [
    "puuids[0]"
   ]
  },
  {
   "cell_type": "code",
   "execution_count": null,
   "metadata": {},
   "outputs": [],
   "source": [
    "# get the 10 most recent games for puuid\n",
    "# store into set so no duplicate games are used\n",
    "last_10_games = []\n",
    "\n",
    "params = {\n",
    "    \"queue\": 420,\n",
    "    \"start\": -1,\n",
    "    \"count\": 10\n",
    "}\n",
    "\n",
    "for puuid in puuids[0:5]:\n",
    "    last_10_url = f\"https://americas.api.riotgames.com/lol/match/v5/matches/by-puuid/{puuid}/ids\"\n",
    "    res = requests.get(url = last_10_url, params = params, headers = headers)\n",
    "    for match_id in res.json():\n",
    "        last_10_games.append(match_id)\n",
    "    time.sleep(1)"
   ]
  },
  {
   "cell_type": "code",
   "execution_count": null,
   "metadata": {},
   "outputs": [],
   "source": [
    "len(last_10_games)"
   ]
  },
  {
   "cell_type": "code",
   "execution_count": null,
   "metadata": {},
   "outputs": [],
   "source": [
    "# get info from each match at 10 minute mark\n",
    "match_id = last_10_games[0]\n",
    "\n",
    "match_url = f\"https://americas.api.riotgames.com/lol/match/v5/matches/{match_id}/timeline\"\n",
    "res = requests.get(url = match_url, headers = headers)"
   ]
  },
  {
   "cell_type": "code",
   "execution_count": null,
   "metadata": {},
   "outputs": [],
   "source": [
    "match = res.json()"
   ]
  },
  {
   "cell_type": "markdown",
   "metadata": {},
   "source": [
    "# Feature Engineering"
   ]
  },
  {
   "cell_type": "markdown",
   "metadata": {},
   "source": [
    "participants 1-5 are blue side\n",
    "\n",
    "6-10 are red side\n",
    "\n",
    "WARDS:\n",
    "\n",
    "WARD_KILL\n",
    "\n",
    "WARD_PLACED\n",
    "\n",
    "ITEM_DESTROYED: 2055 (control ward)\n",
    "\n",
    "KILLS:\n",
    "\n",
    "CHAMIPON_KILLS\n",
    "\n",
    "OBJECTIVES:\n",
    "\n",
    "TURRET_PLATE_DESTROYED\n",
    "\n",
    "BUILDING_KILL\n",
    "\n",
    "ELITE_MONSTER_KILL"
   ]
  },
  {
   "cell_type": "markdown",
   "metadata": {},
   "source": [
    "Each frame is 60 seconds of gameplay.\n",
    "So for each frame need to record the events by parsing through the request\n",
    "like wards placed\n",
    "count total kills from each frame as well"
   ]
  },
  {
   "cell_type": "code",
   "execution_count": null,
   "metadata": {},
   "outputs": [],
   "source": [
    "print(len(match['info']['frames']))"
   ]
  },
  {
   "cell_type": "code",
   "execution_count": null,
   "metadata": {},
   "outputs": [],
   "source": [
    "pprint(match['info']['frames'])"
   ]
  },
  {
   "cell_type": "code",
   "execution_count": null,
   "metadata": {},
   "outputs": [],
   "source": [
    "# make a dataframe with matchid as index and features as columns"
   ]
  },
  {
   "cell_type": "code",
   "execution_count": null,
   "metadata": {},
   "outputs": [],
   "source": []
  }
 ],
 "metadata": {
  "kernelspec": {
   "display_name": "Python 3.8.13 ('THE_ONE')",
   "language": "python",
   "name": "python3"
  },
  "language_info": {
   "codemirror_mode": {
    "name": "ipython",
    "version": 3
   },
   "file_extension": ".py",
   "mimetype": "text/x-python",
   "name": "python",
   "nbconvert_exporter": "python",
   "pygments_lexer": "ipython3",
   "version": "3.8.13"
  },
  "orig_nbformat": 4,
  "vscode": {
   "interpreter": {
    "hash": "ba21b04416bd6bb7d943d6e1e30db1b014094e2c4596ae230c1b8e6f1c8e2c12"
   }
  }
 },
 "nbformat": 4,
 "nbformat_minor": 2
}
